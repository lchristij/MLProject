{
 "cells": [
  {
   "cell_type": "code",
   "execution_count": 1909,
   "metadata": {},
   "outputs": [],
   "source": [
    "import pandas as pd\n",
    "import numpy as np\n",
    "from pathlib import Path\n",
    "%matplotlib inline\n",
    "\n",
    "import warnings\n",
    "warnings.filterwarnings('ignore')"
   ]
  },
  {
   "cell_type": "markdown",
   "metadata": {},
   "source": [
    "### Read in CSV Signal Data"
   ]
  },
  {
   "cell_type": "code",
   "execution_count": 1910,
   "metadata": {},
   "outputs": [],
   "source": [
    "csv_path = Path('trading_signals.csv')\n",
    "df = pd.read_csv(csv_path, parse_dates=['time'], infer_datetime_format=True)"
   ]
  },
  {
   "cell_type": "markdown",
   "metadata": {},
   "source": [
    "### Set index, time and drop cols"
   ]
  },
  {
   "cell_type": "code",
   "execution_count": 1911,
   "metadata": {},
   "outputs": [],
   "source": [
    "df.set_index(pd.to_datetime(df['time'], infer_datetime_format=True), inplace=True)\n",
    "df.drop(columns=['time','Unnamed: 0'], inplace=True)"
   ]
  },
  {
   "cell_type": "markdown",
   "metadata": {},
   "source": [
    "### Set X-Vars and Filter to Obtain Associated Vals"
   ]
  },
  {
   "cell_type": "code",
   "execution_count": 1912,
   "metadata": {},
   "outputs": [
    {
     "data": {
      "text/html": [
       "<div>\n",
       "<style scoped>\n",
       "    .dataframe tbody tr th:only-of-type {\n",
       "        vertical-align: middle;\n",
       "    }\n",
       "\n",
       "    .dataframe tbody tr th {\n",
       "        vertical-align: top;\n",
       "    }\n",
       "\n",
       "    .dataframe thead th {\n",
       "        text-align: right;\n",
       "    }\n",
       "</style>\n",
       "<table border=\"1\" class=\"dataframe\">\n",
       "  <thead>\n",
       "    <tr style=\"text-align: right;\">\n",
       "      <th></th>\n",
       "      <th>macd_crossover_signal</th>\n",
       "      <th>rsi</th>\n",
       "      <th>rsi_signal</th>\n",
       "      <th>crossover_signal</th>\n",
       "      <th>bollinger_signal</th>\n",
       "    </tr>\n",
       "    <tr>\n",
       "      <th>time</th>\n",
       "      <th></th>\n",
       "      <th></th>\n",
       "      <th></th>\n",
       "      <th></th>\n",
       "      <th></th>\n",
       "    </tr>\n",
       "  </thead>\n",
       "  <tbody>\n",
       "    <tr>\n",
       "      <th>2017-03-17</th>\n",
       "      <td>0.0</td>\n",
       "      <td>0.0</td>\n",
       "      <td>0.0</td>\n",
       "      <td>0.0</td>\n",
       "      <td>0.0</td>\n",
       "    </tr>\n",
       "    <tr>\n",
       "      <th>2017-03-20</th>\n",
       "      <td>-1.0</td>\n",
       "      <td>0.0</td>\n",
       "      <td>0.0</td>\n",
       "      <td>-1.0</td>\n",
       "      <td>0.0</td>\n",
       "    </tr>\n",
       "    <tr>\n",
       "      <th>2017-03-21</th>\n",
       "      <td>-1.0</td>\n",
       "      <td>0.0</td>\n",
       "      <td>0.0</td>\n",
       "      <td>-1.0</td>\n",
       "      <td>0.0</td>\n",
       "    </tr>\n",
       "    <tr>\n",
       "      <th>2017-03-22</th>\n",
       "      <td>-1.0</td>\n",
       "      <td>0.0</td>\n",
       "      <td>0.0</td>\n",
       "      <td>-1.0</td>\n",
       "      <td>0.0</td>\n",
       "    </tr>\n",
       "    <tr>\n",
       "      <th>2017-03-23</th>\n",
       "      <td>-1.0</td>\n",
       "      <td>0.0</td>\n",
       "      <td>0.0</td>\n",
       "      <td>-1.0</td>\n",
       "      <td>0.0</td>\n",
       "    </tr>\n",
       "  </tbody>\n",
       "</table>\n",
       "</div>"
      ],
      "text/plain": [
       "            macd_crossover_signal  rsi  rsi_signal  crossover_signal  \\\n",
       "time                                                                   \n",
       "2017-03-17                    0.0  0.0         0.0               0.0   \n",
       "2017-03-20                   -1.0  0.0         0.0              -1.0   \n",
       "2017-03-21                   -1.0  0.0         0.0              -1.0   \n",
       "2017-03-22                   -1.0  0.0         0.0              -1.0   \n",
       "2017-03-23                   -1.0  0.0         0.0              -1.0   \n",
       "\n",
       "            bollinger_signal  \n",
       "time                          \n",
       "2017-03-17               0.0  \n",
       "2017-03-20               0.0  \n",
       "2017-03-21               0.0  \n",
       "2017-03-22               0.0  \n",
       "2017-03-23               0.0  "
      ]
     },
     "execution_count": 1912,
     "metadata": {},
     "output_type": "execute_result"
    }
   ],
   "source": [
    "x_var_list = ['macd_crossover_signal', 'rsi', 'rsi_signal', 'crossover_signal','bollinger_signal']\n",
    "df[x_var_list].head()"
   ]
  },
  {
   "cell_type": "code",
   "execution_count": 1913,
   "metadata": {},
   "outputs": [
    {
     "data": {
      "text/html": [
       "<div>\n",
       "<style scoped>\n",
       "    .dataframe tbody tr th:only-of-type {\n",
       "        vertical-align: middle;\n",
       "    }\n",
       "\n",
       "    .dataframe tbody tr th {\n",
       "        vertical-align: top;\n",
       "    }\n",
       "\n",
       "    .dataframe thead th {\n",
       "        text-align: right;\n",
       "    }\n",
       "</style>\n",
       "<table border=\"1\" class=\"dataframe\">\n",
       "  <thead>\n",
       "    <tr style=\"text-align: right;\">\n",
       "      <th></th>\n",
       "      <th>macd_crossover_signal</th>\n",
       "      <th>rsi</th>\n",
       "      <th>rsi_signal</th>\n",
       "      <th>crossover_signal</th>\n",
       "      <th>bollinger_signal</th>\n",
       "    </tr>\n",
       "    <tr>\n",
       "      <th>time</th>\n",
       "      <th></th>\n",
       "      <th></th>\n",
       "      <th></th>\n",
       "      <th></th>\n",
       "      <th></th>\n",
       "    </tr>\n",
       "  </thead>\n",
       "  <tbody>\n",
       "    <tr>\n",
       "      <th>2021-02-23</th>\n",
       "      <td>-1.0</td>\n",
       "      <td>54.759007</td>\n",
       "      <td>1.0</td>\n",
       "      <td>1.0</td>\n",
       "      <td>0.0</td>\n",
       "    </tr>\n",
       "    <tr>\n",
       "      <th>2021-02-24</th>\n",
       "      <td>-1.0</td>\n",
       "      <td>55.399744</td>\n",
       "      <td>1.0</td>\n",
       "      <td>1.0</td>\n",
       "      <td>0.0</td>\n",
       "    </tr>\n",
       "    <tr>\n",
       "      <th>2021-02-25</th>\n",
       "      <td>-1.0</td>\n",
       "      <td>61.769056</td>\n",
       "      <td>1.0</td>\n",
       "      <td>1.0</td>\n",
       "      <td>0.0</td>\n",
       "    </tr>\n",
       "    <tr>\n",
       "      <th>2021-02-26</th>\n",
       "      <td>-1.0</td>\n",
       "      <td>46.155728</td>\n",
       "      <td>1.0</td>\n",
       "      <td>-1.0</td>\n",
       "      <td>0.0</td>\n",
       "    </tr>\n",
       "    <tr>\n",
       "      <th>2021-03-01</th>\n",
       "      <td>-1.0</td>\n",
       "      <td>43.537523</td>\n",
       "      <td>1.0</td>\n",
       "      <td>-1.0</td>\n",
       "      <td>0.0</td>\n",
       "    </tr>\n",
       "    <tr>\n",
       "      <th>2021-03-02</th>\n",
       "      <td>-1.0</td>\n",
       "      <td>55.594032</td>\n",
       "      <td>1.0</td>\n",
       "      <td>-1.0</td>\n",
       "      <td>0.0</td>\n",
       "    </tr>\n",
       "    <tr>\n",
       "      <th>2021-03-03</th>\n",
       "      <td>-1.0</td>\n",
       "      <td>51.752156</td>\n",
       "      <td>1.0</td>\n",
       "      <td>-1.0</td>\n",
       "      <td>0.0</td>\n",
       "    </tr>\n",
       "    <tr>\n",
       "      <th>2021-03-04</th>\n",
       "      <td>-1.0</td>\n",
       "      <td>45.887913</td>\n",
       "      <td>1.0</td>\n",
       "      <td>-1.0</td>\n",
       "      <td>0.0</td>\n",
       "    </tr>\n",
       "    <tr>\n",
       "      <th>2021-03-05</th>\n",
       "      <td>-1.0</td>\n",
       "      <td>41.231330</td>\n",
       "      <td>1.0</td>\n",
       "      <td>-1.0</td>\n",
       "      <td>1.0</td>\n",
       "    </tr>\n",
       "    <tr>\n",
       "      <th>2021-03-08</th>\n",
       "      <td>-1.0</td>\n",
       "      <td>49.291321</td>\n",
       "      <td>1.0</td>\n",
       "      <td>-1.0</td>\n",
       "      <td>0.0</td>\n",
       "    </tr>\n",
       "  </tbody>\n",
       "</table>\n",
       "</div>"
      ],
      "text/plain": [
       "            macd_crossover_signal        rsi  rsi_signal  crossover_signal  \\\n",
       "time                                                                         \n",
       "2021-02-23                   -1.0  54.759007         1.0               1.0   \n",
       "2021-02-24                   -1.0  55.399744         1.0               1.0   \n",
       "2021-02-25                   -1.0  61.769056         1.0               1.0   \n",
       "2021-02-26                   -1.0  46.155728         1.0              -1.0   \n",
       "2021-03-01                   -1.0  43.537523         1.0              -1.0   \n",
       "2021-03-02                   -1.0  55.594032         1.0              -1.0   \n",
       "2021-03-03                   -1.0  51.752156         1.0              -1.0   \n",
       "2021-03-04                   -1.0  45.887913         1.0              -1.0   \n",
       "2021-03-05                   -1.0  41.231330         1.0              -1.0   \n",
       "2021-03-08                   -1.0  49.291321         1.0              -1.0   \n",
       "\n",
       "            bollinger_signal  \n",
       "time                          \n",
       "2021-02-23               0.0  \n",
       "2021-02-24               0.0  \n",
       "2021-02-25               0.0  \n",
       "2021-02-26               0.0  \n",
       "2021-03-01               0.0  \n",
       "2021-03-02               0.0  \n",
       "2021-03-03               0.0  \n",
       "2021-03-04               0.0  \n",
       "2021-03-05               1.0  \n",
       "2021-03-08               0.0  "
      ]
     },
     "execution_count": 1913,
     "metadata": {},
     "output_type": "execute_result"
    }
   ],
   "source": [
    "#shift df index by 1\n",
    "#this results in yesterdays signals dictating what our positions are today\n",
    "df[x_var_list] = df[x_var_list].shift(1)\n",
    "df[x_var_list].tail(10)"
   ]
  },
  {
   "cell_type": "markdown",
   "metadata": {},
   "source": [
    "### Drop NAs and Replace Pos/Neg Infiity"
   ]
  },
  {
   "cell_type": "code",
   "execution_count": 1914,
   "metadata": {},
   "outputs": [],
   "source": [
    "df.dropna(subset=x_var_list, inplace=True)\n",
    "df.dropna(subset=['daily_return'], inplace=True)\n",
    "df = df.replace([np.inf, -np.inf], np.nan)"
   ]
  },
  {
   "cell_type": "code",
   "execution_count": 1915,
   "metadata": {},
   "outputs": [
    {
     "data": {
      "text/html": [
       "<div>\n",
       "<style scoped>\n",
       "    .dataframe tbody tr th:only-of-type {\n",
       "        vertical-align: middle;\n",
       "    }\n",
       "\n",
       "    .dataframe tbody tr th {\n",
       "        vertical-align: top;\n",
       "    }\n",
       "\n",
       "    .dataframe thead th {\n",
       "        text-align: right;\n",
       "    }\n",
       "</style>\n",
       "<table border=\"1\" class=\"dataframe\">\n",
       "  <thead>\n",
       "    <tr style=\"text-align: right;\">\n",
       "      <th></th>\n",
       "      <th>daily_return</th>\n",
       "      <th>Positive Return</th>\n",
       "    </tr>\n",
       "    <tr>\n",
       "      <th>time</th>\n",
       "      <th></th>\n",
       "      <th></th>\n",
       "    </tr>\n",
       "  </thead>\n",
       "  <tbody>\n",
       "    <tr>\n",
       "      <th>2017-03-20</th>\n",
       "      <td>-0.001434</td>\n",
       "      <td>0.0</td>\n",
       "    </tr>\n",
       "    <tr>\n",
       "      <th>2017-03-21</th>\n",
       "      <td>-0.012503</td>\n",
       "      <td>0.0</td>\n",
       "    </tr>\n",
       "    <tr>\n",
       "      <th>2017-03-22</th>\n",
       "      <td>0.002096</td>\n",
       "      <td>1.0</td>\n",
       "    </tr>\n",
       "    <tr>\n",
       "      <th>2017-03-23</th>\n",
       "      <td>-0.001110</td>\n",
       "      <td>0.0</td>\n",
       "    </tr>\n",
       "    <tr>\n",
       "      <th>2017-03-24</th>\n",
       "      <td>-0.000470</td>\n",
       "      <td>0.0</td>\n",
       "    </tr>\n",
       "  </tbody>\n",
       "</table>\n",
       "</div>"
      ],
      "text/plain": [
       "            daily_return  Positive Return\n",
       "time                                     \n",
       "2017-03-20     -0.001434              0.0\n",
       "2017-03-21     -0.012503              0.0\n",
       "2017-03-22      0.002096              1.0\n",
       "2017-03-23     -0.001110              0.0\n",
       "2017-03-24     -0.000470              0.0"
      ]
     },
     "execution_count": 1915,
     "metadata": {},
     "output_type": "execute_result"
    }
   ],
   "source": [
    "#if daily returns are greater than zero then set binary feature of Positive Returns to True\n",
    "df['Positive Return'] = np.where(df['daily_return'] > 0, 1.0, 0.0)\n",
    "df[['daily_return','Positive Return']].head()"
   ]
  },
  {
   "cell_type": "markdown",
   "metadata": {},
   "source": [
    "### Assign Training and Testing Windows"
   ]
  },
  {
   "cell_type": "code",
   "execution_count": 1916,
   "metadata": {},
   "outputs": [
    {
     "name": "stdout",
     "output_type": "stream",
     "text": [
      "There are 699 records in the Training Set\n"
     ]
    }
   ],
   "source": [
    "#train on 70%\n",
    "split = int(0.70 * len(df))\n",
    "X_train = df[x_var_list][:split]\n",
    "X_test = df[x_var_list][split:]\n",
    "y_train = df['Positive Return'][: split]\n",
    "y_test = df['Positive Return'][split:]\n",
    "print(f\"There are {len(X_train)} records in the Training Set\")"
   ]
  },
  {
   "cell_type": "code",
   "execution_count": 1917,
   "metadata": {},
   "outputs": [
    {
     "name": "stdout",
     "output_type": "stream",
     "text": [
      "There are 300 records in the Testing Set\n"
     ]
    }
   ],
   "source": [
    "print(f\"There are {len(X_test)} records in the Testing Set\")"
   ]
  },
  {
   "cell_type": "markdown",
   "metadata": {},
   "source": [
    "### Separate X and y Training sets"
   ]
  },
  {
   "cell_type": "code",
   "execution_count": 1918,
   "metadata": {},
   "outputs": [
    {
     "data": {
      "text/html": [
       "<div>\n",
       "<style scoped>\n",
       "    .dataframe tbody tr th:only-of-type {\n",
       "        vertical-align: middle;\n",
       "    }\n",
       "\n",
       "    .dataframe tbody tr th {\n",
       "        vertical-align: top;\n",
       "    }\n",
       "\n",
       "    .dataframe thead th {\n",
       "        text-align: right;\n",
       "    }\n",
       "</style>\n",
       "<table border=\"1\" class=\"dataframe\">\n",
       "  <thead>\n",
       "    <tr style=\"text-align: right;\">\n",
       "      <th></th>\n",
       "      <th>macd_crossover_signal</th>\n",
       "      <th>rsi</th>\n",
       "      <th>rsi_signal</th>\n",
       "      <th>crossover_signal</th>\n",
       "      <th>bollinger_signal</th>\n",
       "    </tr>\n",
       "    <tr>\n",
       "      <th>time</th>\n",
       "      <th></th>\n",
       "      <th></th>\n",
       "      <th></th>\n",
       "      <th></th>\n",
       "      <th></th>\n",
       "    </tr>\n",
       "  </thead>\n",
       "  <tbody>\n",
       "    <tr>\n",
       "      <th>2019-12-19</th>\n",
       "      <td>1.0</td>\n",
       "      <td>72.001391</td>\n",
       "      <td>-1.0</td>\n",
       "      <td>1.0</td>\n",
       "      <td>0.0</td>\n",
       "    </tr>\n",
       "    <tr>\n",
       "      <th>2019-12-20</th>\n",
       "      <td>1.0</td>\n",
       "      <td>74.286501</td>\n",
       "      <td>-1.0</td>\n",
       "      <td>1.0</td>\n",
       "      <td>0.0</td>\n",
       "    </tr>\n",
       "    <tr>\n",
       "      <th>2019-12-23</th>\n",
       "      <td>1.0</td>\n",
       "      <td>74.354293</td>\n",
       "      <td>-1.0</td>\n",
       "      <td>1.0</td>\n",
       "      <td>0.0</td>\n",
       "    </tr>\n",
       "    <tr>\n",
       "      <th>2019-12-24</th>\n",
       "      <td>1.0</td>\n",
       "      <td>74.836547</td>\n",
       "      <td>-1.0</td>\n",
       "      <td>1.0</td>\n",
       "      <td>0.0</td>\n",
       "    </tr>\n",
       "    <tr>\n",
       "      <th>2019-12-26</th>\n",
       "      <td>1.0</td>\n",
       "      <td>74.911815</td>\n",
       "      <td>-1.0</td>\n",
       "      <td>1.0</td>\n",
       "      <td>0.0</td>\n",
       "    </tr>\n",
       "  </tbody>\n",
       "</table>\n",
       "</div>"
      ],
      "text/plain": [
       "            macd_crossover_signal        rsi  rsi_signal  crossover_signal  \\\n",
       "time                                                                         \n",
       "2019-12-19                    1.0  72.001391        -1.0               1.0   \n",
       "2019-12-20                    1.0  74.286501        -1.0               1.0   \n",
       "2019-12-23                    1.0  74.354293        -1.0               1.0   \n",
       "2019-12-24                    1.0  74.836547        -1.0               1.0   \n",
       "2019-12-26                    1.0  74.911815        -1.0               1.0   \n",
       "\n",
       "            bollinger_signal  \n",
       "time                          \n",
       "2019-12-19               0.0  \n",
       "2019-12-20               0.0  \n",
       "2019-12-23               0.0  \n",
       "2019-12-24               0.0  \n",
       "2019-12-26               0.0  "
      ]
     },
     "execution_count": 1918,
     "metadata": {},
     "output_type": "execute_result"
    }
   ],
   "source": [
    "X_train.tail()"
   ]
  },
  {
   "cell_type": "code",
   "execution_count": 1919,
   "metadata": {},
   "outputs": [
    {
     "data": {
      "text/plain": [
       "time\n",
       "2019-12-19    1.0\n",
       "2019-12-20    1.0\n",
       "2019-12-23    1.0\n",
       "2019-12-24    1.0\n",
       "2019-12-26    1.0\n",
       "Name: Positive Return, dtype: float64"
      ]
     },
     "execution_count": 1919,
     "metadata": {},
     "output_type": "execute_result"
    }
   ],
   "source": [
    "y_train.tail()"
   ]
  },
  {
   "cell_type": "code",
   "execution_count": 1920,
   "metadata": {},
   "outputs": [
    {
     "data": {
      "text/html": [
       "<div>\n",
       "<style scoped>\n",
       "    .dataframe tbody tr th:only-of-type {\n",
       "        vertical-align: middle;\n",
       "    }\n",
       "\n",
       "    .dataframe tbody tr th {\n",
       "        vertical-align: top;\n",
       "    }\n",
       "\n",
       "    .dataframe thead th {\n",
       "        text-align: right;\n",
       "    }\n",
       "</style>\n",
       "<table border=\"1\" class=\"dataframe\">\n",
       "  <thead>\n",
       "    <tr style=\"text-align: right;\">\n",
       "      <th></th>\n",
       "      <th>macd_crossover_signal</th>\n",
       "      <th>rsi</th>\n",
       "      <th>rsi_signal</th>\n",
       "      <th>crossover_signal</th>\n",
       "      <th>bollinger_signal</th>\n",
       "    </tr>\n",
       "    <tr>\n",
       "      <th>time</th>\n",
       "      <th></th>\n",
       "      <th></th>\n",
       "      <th></th>\n",
       "      <th></th>\n",
       "      <th></th>\n",
       "    </tr>\n",
       "  </thead>\n",
       "  <tbody>\n",
       "    <tr>\n",
       "      <th>2021-03-02</th>\n",
       "      <td>-1.0</td>\n",
       "      <td>55.594032</td>\n",
       "      <td>1.0</td>\n",
       "      <td>-1.0</td>\n",
       "      <td>0.0</td>\n",
       "    </tr>\n",
       "    <tr>\n",
       "      <th>2021-03-03</th>\n",
       "      <td>-1.0</td>\n",
       "      <td>51.752156</td>\n",
       "      <td>1.0</td>\n",
       "      <td>-1.0</td>\n",
       "      <td>0.0</td>\n",
       "    </tr>\n",
       "    <tr>\n",
       "      <th>2021-03-04</th>\n",
       "      <td>-1.0</td>\n",
       "      <td>45.887913</td>\n",
       "      <td>1.0</td>\n",
       "      <td>-1.0</td>\n",
       "      <td>0.0</td>\n",
       "    </tr>\n",
       "    <tr>\n",
       "      <th>2021-03-05</th>\n",
       "      <td>-1.0</td>\n",
       "      <td>41.231330</td>\n",
       "      <td>1.0</td>\n",
       "      <td>-1.0</td>\n",
       "      <td>1.0</td>\n",
       "    </tr>\n",
       "    <tr>\n",
       "      <th>2021-03-08</th>\n",
       "      <td>-1.0</td>\n",
       "      <td>49.291321</td>\n",
       "      <td>1.0</td>\n",
       "      <td>-1.0</td>\n",
       "      <td>0.0</td>\n",
       "    </tr>\n",
       "  </tbody>\n",
       "</table>\n",
       "</div>"
      ],
      "text/plain": [
       "            macd_crossover_signal        rsi  rsi_signal  crossover_signal  \\\n",
       "time                                                                         \n",
       "2021-03-02                   -1.0  55.594032         1.0              -1.0   \n",
       "2021-03-03                   -1.0  51.752156         1.0              -1.0   \n",
       "2021-03-04                   -1.0  45.887913         1.0              -1.0   \n",
       "2021-03-05                   -1.0  41.231330         1.0              -1.0   \n",
       "2021-03-08                   -1.0  49.291321         1.0              -1.0   \n",
       "\n",
       "            bollinger_signal  \n",
       "time                          \n",
       "2021-03-02               0.0  \n",
       "2021-03-03               0.0  \n",
       "2021-03-04               0.0  \n",
       "2021-03-05               1.0  \n",
       "2021-03-08               0.0  "
      ]
     },
     "execution_count": 1920,
     "metadata": {},
     "output_type": "execute_result"
    }
   ],
   "source": [
    "X_test.tail()"
   ]
  },
  {
   "cell_type": "code",
   "execution_count": 1921,
   "metadata": {},
   "outputs": [
    {
     "data": {
      "text/plain": [
       "time\n",
       "2021-03-02    0.0\n",
       "2021-03-03    0.0\n",
       "2021-03-04    0.0\n",
       "2021-03-05    1.0\n",
       "2021-03-08    0.0\n",
       "Name: Positive Return, dtype: float64"
      ]
     },
     "execution_count": 1921,
     "metadata": {},
     "output_type": "execute_result"
    }
   ],
   "source": [
    "y_test.tail()"
   ]
  },
  {
   "cell_type": "markdown",
   "metadata": {},
   "source": [
    "### Setup Neural Networks"
   ]
  },
  {
   "cell_type": "code",
   "execution_count": 1922,
   "metadata": {},
   "outputs": [],
   "source": [
    "import tensorflow as tf\n",
    "from tensorflow.keras.layers import Dense\n",
    "from tensorflow.keras.models import Sequential\n",
    "from sklearn.preprocessing import StandardScaler\n",
    "from sklearn.model_selection import train_test_split\n",
    "\n",
    "%matplotlib inline"
   ]
  },
  {
   "cell_type": "code",
   "execution_count": 1923,
   "metadata": {},
   "outputs": [],
   "source": [
    "tf.random.set_seed(126)"
   ]
  },
  {
   "cell_type": "code",
   "execution_count": 1924,
   "metadata": {},
   "outputs": [],
   "source": [
    "X_scaler = StandardScaler()"
   ]
  },
  {
   "cell_type": "code",
   "execution_count": 1925,
   "metadata": {},
   "outputs": [
    {
     "data": {
      "text/plain": [
       "StandardScaler()"
      ]
     },
     "execution_count": 1925,
     "metadata": {},
     "output_type": "execute_result"
    }
   ],
   "source": [
    "#fit the scaler\n",
    "X_scaler.fit(X_train)"
   ]
  },
  {
   "cell_type": "code",
   "execution_count": 1926,
   "metadata": {},
   "outputs": [],
   "source": [
    "X_train = X_scaler.transform(X_train)\n",
    "X_test = X_scaler.transform(X_test)"
   ]
  },
  {
   "cell_type": "code",
   "execution_count": 1927,
   "metadata": {},
   "outputs": [
    {
     "data": {
      "text/plain": [
       "(699, 5)"
      ]
     },
     "execution_count": 1927,
     "metadata": {},
     "output_type": "execute_result"
    }
   ],
   "source": [
    "X_train.shape"
   ]
  },
  {
   "cell_type": "code",
   "execution_count": 1955,
   "metadata": {},
   "outputs": [],
   "source": [
    "#define the model\n",
    "number_inputs = len(x_var_list)\n",
    "#https://www.vcalc.com/wiki/vCalc/Nodes+in+a+Hidden+Layer\n",
    "number_hidden_nodes = 15\n",
    "\n",
    "nn = Sequential()\n",
    "nn.add(Dense(units=number_hidden_nodes, input_dim=number_inputs, activation=\"relu\"))\n",
    "nn.add(Dense(units=number_hidden_nodes, input_dim=number_inputs, activation=\"relu\"))\n",
    "nn.add(Dense(1, activation=\"sigmoid\"))"
   ]
  },
  {
   "cell_type": "code",
   "execution_count": 1956,
   "metadata": {},
   "outputs": [],
   "source": [
    "#compile the model\n",
    "nn.compile(loss=\"binary_crossentropy\", optimizer=\"adam\", metrics=[\"accuracy\"])"
   ]
  },
  {
   "cell_type": "code",
   "execution_count": 1957,
   "metadata": {},
   "outputs": [
    {
     "name": "stdout",
     "output_type": "stream",
     "text": [
      "Epoch 1/100\n",
      "22/22 [==============================] - 0s 1ms/step - loss: 0.6960 - accuracy: 0.5181\n",
      "Epoch 2/100\n",
      "22/22 [==============================] - 0s 1ms/step - loss: 0.6913 - accuracy: 0.5430\n",
      "Epoch 3/100\n",
      "22/22 [==============================] - 0s 955us/step - loss: 0.6821 - accuracy: 0.5736\n",
      "Epoch 4/100\n",
      "22/22 [==============================] - 0s 1ms/step - loss: 0.6900 - accuracy: 0.5546\n",
      "Epoch 5/100\n",
      "22/22 [==============================] - 0s 1ms/step - loss: 0.6796 - accuracy: 0.5869\n",
      "Epoch 6/100\n",
      "22/22 [==============================] - 0s 1ms/step - loss: 0.6821 - accuracy: 0.5857\n",
      "Epoch 7/100\n",
      "22/22 [==============================] - 0s 943us/step - loss: 0.6862 - accuracy: 0.5672\n",
      "Epoch 8/100\n",
      "22/22 [==============================] - 0s 963us/step - loss: 0.6896 - accuracy: 0.5333\n",
      "Epoch 9/100\n",
      "22/22 [==============================] - 0s 1ms/step - loss: 0.6861 - accuracy: 0.5527\n",
      "Epoch 10/100\n",
      "22/22 [==============================] - 0s 1ms/step - loss: 0.6873 - accuracy: 0.5518\n",
      "Epoch 11/100\n",
      "22/22 [==============================] - 0s 1ms/step - loss: 0.6834 - accuracy: 0.5591\n",
      "Epoch 12/100\n",
      "22/22 [==============================] - 0s 1ms/step - loss: 0.6968 - accuracy: 0.5250\n",
      "Epoch 13/100\n",
      "22/22 [==============================] - 0s 1ms/step - loss: 0.6942 - accuracy: 0.5181\n",
      "Epoch 14/100\n",
      "22/22 [==============================] - 0s 1ms/step - loss: 0.6874 - accuracy: 0.5461\n",
      "Epoch 15/100\n",
      "22/22 [==============================] - 0s 1ms/step - loss: 0.6820 - accuracy: 0.5782\n",
      "Epoch 16/100\n",
      "22/22 [==============================] - 0s 1ms/step - loss: 0.6794 - accuracy: 0.5792\n",
      "Epoch 17/100\n",
      "22/22 [==============================] - 0s 1ms/step - loss: 0.6810 - accuracy: 0.5690\n",
      "Epoch 18/100\n",
      "22/22 [==============================] - 0s 1ms/step - loss: 0.6747 - accuracy: 0.5936\n",
      "Epoch 19/100\n",
      "22/22 [==============================] - 0s 1ms/step - loss: 0.6823 - accuracy: 0.5745\n",
      "Epoch 20/100\n",
      "22/22 [==============================] - 0s 1ms/step - loss: 0.6773 - accuracy: 0.5870\n",
      "Epoch 21/100\n",
      "22/22 [==============================] - 0s 974us/step - loss: 0.6784 - accuracy: 0.5931\n",
      "Epoch 22/100\n",
      "22/22 [==============================] - 0s 991us/step - loss: 0.6863 - accuracy: 0.5546\n",
      "Epoch 23/100\n",
      "22/22 [==============================] - 0s 1000us/step - loss: 0.6839 - accuracy: 0.5537\n",
      "Epoch 24/100\n",
      "22/22 [==============================] - 0s 1ms/step - loss: 0.6886 - accuracy: 0.5476\n",
      "Epoch 25/100\n",
      "22/22 [==============================] - 0s 1ms/step - loss: 0.6841 - accuracy: 0.5805\n",
      "Epoch 26/100\n",
      "22/22 [==============================] - 0s 900us/step - loss: 0.6888 - accuracy: 0.5395\n",
      "Epoch 27/100\n",
      "22/22 [==============================] - 0s 1ms/step - loss: 0.6805 - accuracy: 0.5782\n",
      "Epoch 28/100\n",
      "22/22 [==============================] - 0s 1ms/step - loss: 0.6820 - accuracy: 0.5644\n",
      "Epoch 29/100\n",
      "22/22 [==============================] - 0s 1ms/step - loss: 0.6820 - accuracy: 0.5624\n",
      "Epoch 30/100\n",
      "22/22 [==============================] - 0s 1ms/step - loss: 0.6823 - accuracy: 0.5682\n",
      "Epoch 31/100\n",
      "22/22 [==============================] - 0s 1ms/step - loss: 0.6911 - accuracy: 0.5413\n",
      "Epoch 32/100\n",
      "22/22 [==============================] - 0s 1ms/step - loss: 0.6808 - accuracy: 0.5787\n",
      "Epoch 33/100\n",
      "22/22 [==============================] - 0s 1ms/step - loss: 0.6815 - accuracy: 0.5793\n",
      "Epoch 34/100\n",
      "22/22 [==============================] - 0s 1ms/step - loss: 0.6768 - accuracy: 0.5796\n",
      "Epoch 35/100\n",
      "22/22 [==============================] - 0s 1ms/step - loss: 0.6863 - accuracy: 0.5583\n",
      "Epoch 36/100\n",
      "22/22 [==============================] - 0s 1ms/step - loss: 0.6853 - accuracy: 0.5454\n",
      "Epoch 37/100\n",
      "22/22 [==============================] - 0s 1ms/step - loss: 0.6928 - accuracy: 0.5419\n",
      "Epoch 38/100\n",
      "22/22 [==============================] - 0s 1ms/step - loss: 0.6855 - accuracy: 0.5602\n",
      "Epoch 39/100\n",
      "22/22 [==============================] - 0s 1ms/step - loss: 0.6760 - accuracy: 0.5983\n",
      "Epoch 40/100\n",
      "22/22 [==============================] - 0s 1ms/step - loss: 0.6819 - accuracy: 0.5698\n",
      "Epoch 41/100\n",
      "22/22 [==============================] - 0s 1ms/step - loss: 0.6841 - accuracy: 0.5700\n",
      "Epoch 42/100\n",
      "22/22 [==============================] - 0s 1ms/step - loss: 0.6861 - accuracy: 0.5619\n",
      "Epoch 43/100\n",
      "22/22 [==============================] - 0s 922us/step - loss: 0.6877 - accuracy: 0.5514\n",
      "Epoch 44/100\n",
      "22/22 [==============================] - 0s 1ms/step - loss: 0.6778 - accuracy: 0.5861\n",
      "Epoch 45/100\n",
      "22/22 [==============================] - 0s 1ms/step - loss: 0.6795 - accuracy: 0.5788\n",
      "Epoch 46/100\n",
      "22/22 [==============================] - 0s 1ms/step - loss: 0.6760 - accuracy: 0.5881\n",
      "Epoch 47/100\n",
      "22/22 [==============================] - 0s 971us/step - loss: 0.6856 - accuracy: 0.5714\n",
      "Epoch 48/100\n",
      "22/22 [==============================] - 0s 1ms/step - loss: 0.6903 - accuracy: 0.5440\n",
      "Epoch 49/100\n",
      "22/22 [==============================] - 0s 1ms/step - loss: 0.6796 - accuracy: 0.5885\n",
      "Epoch 50/100\n",
      "22/22 [==============================] - 0s 1ms/step - loss: 0.6855 - accuracy: 0.5613\n",
      "Epoch 51/100\n",
      "22/22 [==============================] - 0s 978us/step - loss: 0.6760 - accuracy: 0.5953\n",
      "Epoch 52/100\n",
      "22/22 [==============================] - 0s 1ms/step - loss: 0.6894 - accuracy: 0.5478\n",
      "Epoch 53/100\n",
      "22/22 [==============================] - 0s 1ms/step - loss: 0.6913 - accuracy: 0.5491\n",
      "Epoch 54/100\n",
      "22/22 [==============================] - 0s 1ms/step - loss: 0.6823 - accuracy: 0.5783\n",
      "Epoch 55/100\n",
      "22/22 [==============================] - 0s 966us/step - loss: 0.6878 - accuracy: 0.5449\n",
      "Epoch 56/100\n",
      "22/22 [==============================] - 0s 1ms/step - loss: 0.6822 - accuracy: 0.5668\n",
      "Epoch 57/100\n",
      "22/22 [==============================] - 0s 1ms/step - loss: 0.6782 - accuracy: 0.5778\n",
      "Epoch 58/100\n",
      "22/22 [==============================] - 0s 903us/step - loss: 0.6793 - accuracy: 0.5837\n",
      "Epoch 59/100\n",
      "22/22 [==============================] - 0s 1ms/step - loss: 0.6801 - accuracy: 0.5568\n",
      "Epoch 60/100\n",
      "22/22 [==============================] - 0s 1ms/step - loss: 0.6795 - accuracy: 0.5739\n",
      "Epoch 61/100\n",
      "22/22 [==============================] - 0s 1ms/step - loss: 0.6851 - accuracy: 0.5720\n",
      "Epoch 62/100\n",
      "22/22 [==============================] - 0s 992us/step - loss: 0.6880 - accuracy: 0.5449\n",
      "Epoch 63/100\n",
      "22/22 [==============================] - 0s 1ms/step - loss: 0.6771 - accuracy: 0.5731\n",
      "Epoch 64/100\n",
      "22/22 [==============================] - 0s 1ms/step - loss: 0.6780 - accuracy: 0.5917\n",
      "Epoch 65/100\n",
      "22/22 [==============================] - 0s 1ms/step - loss: 0.6813 - accuracy: 0.5671\n",
      "Epoch 66/100\n",
      "22/22 [==============================] - 0s 941us/step - loss: 0.6811 - accuracy: 0.5755\n",
      "Epoch 67/100\n",
      "22/22 [==============================] - 0s 1ms/step - loss: 0.6794 - accuracy: 0.5734\n",
      "Epoch 68/100\n",
      "22/22 [==============================] - 0s 1ms/step - loss: 0.6851 - accuracy: 0.5628\n",
      "Epoch 69/100\n",
      "22/22 [==============================] - 0s 1ms/step - loss: 0.6904 - accuracy: 0.5384\n",
      "Epoch 70/100\n",
      "22/22 [==============================] - 0s 1ms/step - loss: 0.6757 - accuracy: 0.5944\n",
      "Epoch 71/100\n",
      "22/22 [==============================] - 0s 920us/step - loss: 0.6762 - accuracy: 0.5917\n",
      "Epoch 72/100\n",
      "22/22 [==============================] - 0s 1ms/step - loss: 0.6841 - accuracy: 0.5681\n",
      "Epoch 73/100\n",
      "22/22 [==============================] - 0s 1ms/step - loss: 0.6817 - accuracy: 0.5595\n",
      "Epoch 74/100\n",
      "22/22 [==============================] - 0s 1ms/step - loss: 0.6781 - accuracy: 0.5833\n",
      "Epoch 75/100\n",
      "22/22 [==============================] - 0s 1ms/step - loss: 0.6800 - accuracy: 0.5679\n",
      "Epoch 76/100\n",
      "22/22 [==============================] - 0s 1ms/step - loss: 0.6793 - accuracy: 0.5718\n",
      "Epoch 77/100\n",
      "22/22 [==============================] - 0s 1ms/step - loss: 0.6811 - accuracy: 0.5689\n",
      "Epoch 78/100\n",
      "22/22 [==============================] - 0s 1ms/step - loss: 0.6807 - accuracy: 0.5630\n",
      "Epoch 79/100\n",
      "22/22 [==============================] - 0s 1ms/step - loss: 0.6788 - accuracy: 0.5760\n",
      "Epoch 80/100\n",
      "22/22 [==============================] - 0s 1ms/step - loss: 0.6835 - accuracy: 0.5694\n",
      "Epoch 81/100\n",
      "22/22 [==============================] - 0s 2ms/step - loss: 0.6830 - accuracy: 0.5495\n",
      "Epoch 82/100\n",
      "22/22 [==============================] - 0s 1ms/step - loss: 0.6809 - accuracy: 0.5695\n",
      "Epoch 83/100\n",
      "22/22 [==============================] - 0s 1ms/step - loss: 0.6671 - accuracy: 0.6192\n",
      "Epoch 84/100\n",
      "22/22 [==============================] - 0s 1ms/step - loss: 0.6763 - accuracy: 0.5753\n",
      "Epoch 85/100\n",
      "22/22 [==============================] - 0s 1ms/step - loss: 0.6837 - accuracy: 0.5575\n",
      "Epoch 86/100\n",
      "22/22 [==============================] - 0s 1ms/step - loss: 0.6801 - accuracy: 0.5741\n",
      "Epoch 87/100\n",
      "22/22 [==============================] - 0s 1ms/step - loss: 0.6820 - accuracy: 0.5621\n",
      "Epoch 88/100\n",
      "22/22 [==============================] - 0s 1ms/step - loss: 0.6859 - accuracy: 0.5590\n",
      "Epoch 89/100\n",
      "22/22 [==============================] - 0s 1ms/step - loss: 0.6891 - accuracy: 0.5487\n",
      "Epoch 90/100\n",
      "22/22 [==============================] - 0s 992us/step - loss: 0.6823 - accuracy: 0.5633\n",
      "Epoch 91/100\n",
      "22/22 [==============================] - 0s 1ms/step - loss: 0.6802 - accuracy: 0.5687\n",
      "Epoch 92/100\n",
      "22/22 [==============================] - 0s 1ms/step - loss: 0.6819 - accuracy: 0.5711\n",
      "Epoch 93/100\n",
      "22/22 [==============================] - 0s 937us/step - loss: 0.6801 - accuracy: 0.5849\n",
      "Epoch 94/100\n",
      "22/22 [==============================] - 0s 1ms/step - loss: 0.6885 - accuracy: 0.5385\n",
      "Epoch 95/100\n",
      "22/22 [==============================] - 0s 1ms/step - loss: 0.6760 - accuracy: 0.5783\n",
      "Epoch 96/100\n",
      "22/22 [==============================] - 0s 1ms/step - loss: 0.6791 - accuracy: 0.5738\n",
      "Epoch 97/100\n",
      "22/22 [==============================] - 0s 1ms/step - loss: 0.6832 - accuracy: 0.5517\n",
      "Epoch 98/100\n",
      "22/22 [==============================] - 0s 1ms/step - loss: 0.6833 - accuracy: 0.5646\n",
      "Epoch 99/100\n",
      "22/22 [==============================] - 0s 958us/step - loss: 0.6804 - accuracy: 0.5851\n",
      "Epoch 100/100\n",
      "22/22 [==============================] - 0s 1ms/step - loss: 0.6781 - accuracy: 0.5756\n"
     ]
    }
   ],
   "source": [
    "model = nn.fit(X_train, y_train, epochs=100)"
   ]
  },
  {
   "cell_type": "code",
   "execution_count": 1958,
   "metadata": {},
   "outputs": [
    {
     "data": {
      "text/plain": [
       "<AxesSubplot:>"
      ]
     },
     "execution_count": 1958,
     "metadata": {},
     "output_type": "execute_result"
    },
    {
     "data": {
      "image/png": "[encoded data removed]",
      "text/plain": [
       "<Figure size 1440x720 with 1 Axes>"
      ]
     },
     "metadata": {
      "needs_background": "light"
     },
     "output_type": "display_data"
    }
   ],
   "source": [
    "# Create a dataframe with the history dictionary\n",
    "import matplotlib.pyplot as plt\n",
    "df_plot = pd.DataFrame(model.history, index=range(1, len(model.history[\"loss\"]) + 1))\n",
    "\n",
    "# Plot the loss\n",
    "df_plot.plot(y=\"loss\",figsize=(20,10))\n",
    "#plt.ylim(0,.7)"
   ]
  },
  {
   "cell_type": "code",
   "execution_count": 1959,
   "metadata": {},
   "outputs": [
    {
     "data": {
      "text/plain": [
       "<AxesSubplot:>"
      ]
     },
     "execution_count": 1959,
     "metadata": {},
     "output_type": "execute_result"
    },
    {
     "data": {
      "image/png": "[encoded data removed]",
      "text/plain": [
       "<Figure size 432x288 with 1 Axes>"
      ]
     },
     "metadata": {
      "needs_background": "light"
     },
     "output_type": "display_data"
    }
   ],
   "source": [
    "# Plot the accuracy\n",
    "df_plot.plot(y=\"accuracy\")\n",
    "#plt.ylim(0,.7)"
   ]
  },
  {
   "cell_type": "code",
   "execution_count": 1960,
   "metadata": {},
   "outputs": [
    {
     "name": "stdout",
     "output_type": "stream",
     "text": [
      "10/10 - 0s - loss: 0.6831 - accuracy: 0.5800\n",
      "Loss: 0.6830561757087708, Accuracy: 0.5799999833106995\n"
     ]
    }
   ],
   "source": [
    "# Evaluate the model fit with linear dummy data\n",
    "model_loss, model_accuracy = nn.evaluate(X_test, y_test, verbose=2)\n",
    "print(f\"Loss: {model_loss}, Accuracy: {model_accuracy}\") "
   ]
  },
  {
   "cell_type": "code",
   "execution_count": 1961,
   "metadata": {},
   "outputs": [],
   "source": [
    "#track predictions\n",
    "predicted = nn.predict(X_test)"
   ]
  },
  {
   "cell_type": "markdown",
   "metadata": {},
   "source": [
    "## EVALUATE PERFORMANCE"
   ]
  },
  {
   "cell_type": "code",
   "execution_count": 1962,
   "metadata": {},
   "outputs": [
    {
     "data": {
      "text/html": [
       "<div>\n",
       "<style scoped>\n",
       "    .dataframe tbody tr th:only-of-type {\n",
       "        vertical-align: middle;\n",
       "    }\n",
       "\n",
       "    .dataframe tbody tr th {\n",
       "        vertical-align: top;\n",
       "    }\n",
       "\n",
       "    .dataframe thead th {\n",
       "        text-align: right;\n",
       "    }\n",
       "</style>\n",
       "<table border=\"1\" class=\"dataframe\">\n",
       "  <thead>\n",
       "    <tr style=\"text-align: right;\">\n",
       "      <th></th>\n",
       "      <th>Actual</th>\n",
       "      <th>Close</th>\n",
       "      <th>Predicted</th>\n",
       "      <th>Return</th>\n",
       "    </tr>\n",
       "    <tr>\n",
       "      <th>time</th>\n",
       "      <th></th>\n",
       "      <th></th>\n",
       "      <th></th>\n",
       "      <th></th>\n",
       "    </tr>\n",
       "  </thead>\n",
       "  <tbody>\n",
       "    <tr>\n",
       "      <th>2019-12-27</th>\n",
       "      <td>0.0</td>\n",
       "      <td>322.86</td>\n",
       "      <td>1</td>\n",
       "      <td>-0.000155</td>\n",
       "    </tr>\n",
       "    <tr>\n",
       "      <th>2019-12-30</th>\n",
       "      <td>0.0</td>\n",
       "      <td>321.10</td>\n",
       "      <td>1</td>\n",
       "      <td>-0.005451</td>\n",
       "    </tr>\n",
       "    <tr>\n",
       "      <th>2019-12-31</th>\n",
       "      <td>1.0</td>\n",
       "      <td>321.92</td>\n",
       "      <td>1</td>\n",
       "      <td>0.002554</td>\n",
       "    </tr>\n",
       "    <tr>\n",
       "      <th>2020-01-02</th>\n",
       "      <td>1.0</td>\n",
       "      <td>324.85</td>\n",
       "      <td>1</td>\n",
       "      <td>0.009102</td>\n",
       "    </tr>\n",
       "    <tr>\n",
       "      <th>2020-01-03</th>\n",
       "      <td>0.0</td>\n",
       "      <td>322.44</td>\n",
       "      <td>1</td>\n",
       "      <td>-0.007419</td>\n",
       "    </tr>\n",
       "  </tbody>\n",
       "</table>\n",
       "</div>"
      ],
      "text/plain": [
       "            Actual   Close  Predicted    Return\n",
       "time                                           \n",
       "2019-12-27     0.0  322.86          1 -0.000155\n",
       "2019-12-30     0.0  321.10          1 -0.005451\n",
       "2019-12-31     1.0  321.92          1  0.002554\n",
       "2020-01-02     1.0  324.85          1  0.009102\n",
       "2020-01-03     0.0  322.44          1 -0.007419"
      ]
     },
     "execution_count": 1962,
     "metadata": {},
     "output_type": "execute_result"
    }
   ],
   "source": [
    "results_nn = pd.DataFrame({'Actual': y_test,\n",
    "                           'Close':df['close'][split:],\n",
    "              'Predicted':predicted.ravel()\n",
    "             })\n",
    "\n",
    "#predicted results were showing a number between 0 and 1 so we force .5 or greater to be 1 otherwise 0\n",
    "results_nn['Predicted'] = results_nn['Predicted'].apply(lambda x : 1 if x > .5 else 0)\n",
    "\n",
    "#add returns to results\n",
    "results_nn['Return'] = df['daily_return']\n",
    "\n",
    "#for predicted loss then we set to -1 to create a short positioin\n",
    "results_nn['Predicted'].replace(0, -1, inplace=True)\n",
    "\n",
    "results_nn.head()"
   ]
  },
  {
   "cell_type": "code",
   "execution_count": 1963,
   "metadata": {},
   "outputs": [
    {
     "data": {
      "text/plain": [
       " 1    291\n",
       "-1      9\n",
       "Name: Predicted, dtype: int64"
      ]
     },
     "execution_count": 1963,
     "metadata": {},
     "output_type": "execute_result"
    }
   ],
   "source": [
    "results_nn['Predicted'].value_counts()"
   ]
  },
  {
   "cell_type": "code",
   "execution_count": 1964,
   "metadata": {},
   "outputs": [
    {
     "name": "stdout",
     "output_type": "stream",
     "text": [
      "Algo Returns are:  1.2745657455892243\n"
     ]
    }
   ],
   "source": [
    "print(f\"Algo Returns are:  {(1 + results_nn['Return'] * results_nn['Predicted']).cumprod()[-1]}\")"
   ]
  },
  {
   "cell_type": "code",
   "execution_count": 1965,
   "metadata": {},
   "outputs": [
    {
     "data": {
      "text/plain": [
       "<AxesSubplot:xlabel='time'>"
      ]
     },
     "execution_count": 1965,
     "metadata": {},
     "output_type": "execute_result"
    },
    {
     "data": {
      "image/png": "[encoded data removed]",
      "text/plain": [
       "<Figure size 864x432 with 1 Axes>"
      ]
     },
     "metadata": {
      "needs_background": "light"
     },
     "output_type": "display_data"
    }
   ],
   "source": [
    "#calc with init cap of $10K\n",
    "initial_capital = 10000\n",
    "cumulative_return_capital_nn = initial_capital * (1 + (results_nn['Return'] * results_nn['Predicted'])).cumprod()\n",
    "cumulative_return_capital_nn.plot(figsize=(12,6))\n",
    "#cumulative_return_capital_nn.head()"
   ]
  },
  {
   "cell_type": "code",
   "execution_count": 1966,
   "metadata": {},
   "outputs": [
    {
     "name": "stdout",
     "output_type": "stream",
     "text": [
      "Today = 2021-03-08T00:00:00-05:00 and Start = 2017-03-09T00:00:00-05:00\n"
     ]
    }
   ],
   "source": [
    "import os\n",
    "from dotenv import load_dotenv\n",
    "import alpaca_trade_api as tradeapi\n",
    "from datetime import timedelta, date\n",
    "from dateutil.relativedelta import relativedelta\n",
    "load_dotenv()\n",
    "\n",
    "alpaca_api_key = os.getenv(\"ALPACA_API_KEY\")\n",
    "alpaca_secret_key = os.getenv(\"ALPACA_SECRET_KEY\")\n",
    "\n",
    "# Create the Alpaca API object\\n\",\n",
    "alpaca = tradeapi.REST(\n",
    "    alpaca_api_key,\n",
    "    alpaca_secret_key,\n",
    "    api_version=\"v2\"\n",
    ")\n",
    "\n",
    "today = date.today()\n",
    "start = today - timedelta(days=1460)\n",
    "today = pd.Timestamp(today, tz=\"America/New_York\").isoformat()\n",
    "start = pd.Timestamp(start, tz=\"America/New_York\").isoformat()\n",
    "\n",
    "print(f\"Today = {today} and Start = {start}\")\n",
    "\n",
    "# Set the tickers\\n\",\n",
    "tickers = [\"SPY\"]\n",
    "\n",
    "#timeframe\n",
    "timeframe = \"1D\"\n",
    "\n",
    "# Get current price data for MSFT and AAPL\n",
    "df_sp500 = alpaca.get_barset(\n",
    "    tickers,\n",
    "    timeframe,\n",
    "    start = start,\n",
    "    end = today,\n",
    "    limit=1000\n",
    ").df\n",
    "\n",
    "# Display data\n",
    "df_sp500.columns = df_sp500.columns.get_level_values(1)\n",
    "df_sp500.reset_index(inplace=True)\n",
    "#df_sp500.head()"
   ]
  },
  {
   "cell_type": "code",
   "execution_count": 1967,
   "metadata": {},
   "outputs": [
    {
     "data": {
      "text/plain": [
       "dtype('<M8[ns]')"
      ]
     },
     "execution_count": 1967,
     "metadata": {},
     "output_type": "execute_result"
    }
   ],
   "source": [
    "#reset index\n",
    "df_sp500['time'] = df_sp500['time'].dt.date\n",
    "df_sp500.set_index('time',inplace=True)\n",
    "df_sp500.index = pd.to_datetime(df_sp500.index)\n",
    "df_sp500.index.dtype"
   ]
  },
  {
   "cell_type": "code",
   "execution_count": 1968,
   "metadata": {},
   "outputs": [],
   "source": [
    "#df['daily_return_algo'] = df['close'].dropna().pct_change()"
   ]
  },
  {
   "cell_type": "code",
   "execution_count": 1969,
   "metadata": {},
   "outputs": [
    {
     "data": {
      "text/html": [
       "<div>\n",
       "<style scoped>\n",
       "    .dataframe tbody tr th:only-of-type {\n",
       "        vertical-align: middle;\n",
       "    }\n",
       "\n",
       "    .dataframe tbody tr th {\n",
       "        vertical-align: top;\n",
       "    }\n",
       "\n",
       "    .dataframe thead th {\n",
       "        text-align: right;\n",
       "    }\n",
       "</style>\n",
       "<table border=\"1\" class=\"dataframe\">\n",
       "  <thead>\n",
       "    <tr style=\"text-align: right;\">\n",
       "      <th></th>\n",
       "      <th>0</th>\n",
       "    </tr>\n",
       "    <tr>\n",
       "      <th>time</th>\n",
       "      <th></th>\n",
       "    </tr>\n",
       "  </thead>\n",
       "  <tbody>\n",
       "    <tr>\n",
       "      <th>2019-12-27</th>\n",
       "      <td>9998.451581</td>\n",
       "    </tr>\n",
       "    <tr>\n",
       "      <th>2019-12-30</th>\n",
       "      <td>9943.947230</td>\n",
       "    </tr>\n",
       "    <tr>\n",
       "      <th>2019-12-31</th>\n",
       "      <td>9969.341303</td>\n",
       "    </tr>\n",
       "    <tr>\n",
       "      <th>2020-01-02</th>\n",
       "      <td>10060.078660</td>\n",
       "    </tr>\n",
       "    <tr>\n",
       "      <th>2020-01-03</th>\n",
       "      <td>9985.444861</td>\n",
       "    </tr>\n",
       "  </tbody>\n",
       "</table>\n",
       "</div>"
      ],
      "text/plain": [
       "                       0\n",
       "time                    \n",
       "2019-12-27   9998.451581\n",
       "2019-12-30   9943.947230\n",
       "2019-12-31   9969.341303\n",
       "2020-01-02  10060.078660\n",
       "2020-01-03   9985.444861"
      ]
     },
     "execution_count": 1969,
     "metadata": {},
     "output_type": "execute_result"
    }
   ],
   "source": [
    "cumulative_ret = cumulative_return_capital_nn.to_frame()\n",
    "cumulative_ret.index.dtype\n",
    "#cumulative_ret.rename(columns={'Close':'algo_close'},inplace=True)\n",
    "cumulative_ret.head()"
   ]
  },
  {
   "cell_type": "code",
   "execution_count": 1970,
   "metadata": {},
   "outputs": [],
   "source": [
    "# cumulative_ret.reset_index(inplace=True)\n",
    "# cumulative_ret['time'] = cumulative_ret.dt.date\n",
    "# cumulative_ret.set_index('time', inplace=True)\n",
    "# cumulative_ret.head()"
   ]
  },
  {
   "cell_type": "code",
   "execution_count": 1971,
   "metadata": {},
   "outputs": [
    {
     "data": {
      "text/html": [
       "<div>\n",
       "<style scoped>\n",
       "    .dataframe tbody tr th:only-of-type {\n",
       "        vertical-align: middle;\n",
       "    }\n",
       "\n",
       "    .dataframe tbody tr th {\n",
       "        vertical-align: top;\n",
       "    }\n",
       "\n",
       "    .dataframe thead th {\n",
       "        text-align: right;\n",
       "    }\n",
       "</style>\n",
       "<table border=\"1\" class=\"dataframe\">\n",
       "  <thead>\n",
       "    <tr style=\"text-align: right;\">\n",
       "      <th></th>\n",
       "      <th>open</th>\n",
       "      <th>high</th>\n",
       "      <th>low</th>\n",
       "      <th>close</th>\n",
       "      <th>volume</th>\n",
       "    </tr>\n",
       "    <tr>\n",
       "      <th>time</th>\n",
       "      <th></th>\n",
       "      <th></th>\n",
       "      <th></th>\n",
       "      <th></th>\n",
       "      <th></th>\n",
       "    </tr>\n",
       "  </thead>\n",
       "  <tbody>\n",
       "    <tr>\n",
       "      <th>2017-03-17</th>\n",
       "      <td>237.75</td>\n",
       "      <td>237.97</td>\n",
       "      <td>237.07</td>\n",
       "      <td>237.08</td>\n",
       "      <td>50206841</td>\n",
       "    </tr>\n",
       "    <tr>\n",
       "      <th>2017-03-20</th>\n",
       "      <td>237.03</td>\n",
       "      <td>237.36</td>\n",
       "      <td>236.32</td>\n",
       "      <td>236.74</td>\n",
       "      <td>37732815</td>\n",
       "    </tr>\n",
       "    <tr>\n",
       "      <th>2017-03-21</th>\n",
       "      <td>237.47</td>\n",
       "      <td>237.61</td>\n",
       "      <td>233.58</td>\n",
       "      <td>233.78</td>\n",
       "      <td>102898817</td>\n",
       "    </tr>\n",
       "    <tr>\n",
       "      <th>2017-03-22</th>\n",
       "      <td>233.77</td>\n",
       "      <td>234.61</td>\n",
       "      <td>233.05</td>\n",
       "      <td>234.27</td>\n",
       "      <td>70252351</td>\n",
       "    </tr>\n",
       "    <tr>\n",
       "      <th>2017-03-23</th>\n",
       "      <td>233.99</td>\n",
       "      <td>235.34</td>\n",
       "      <td>233.60</td>\n",
       "      <td>234.01</td>\n",
       "      <td>76534784</td>\n",
       "    </tr>\n",
       "  </tbody>\n",
       "</table>\n",
       "</div>"
      ],
      "text/plain": [
       "              open    high     low   close     volume\n",
       "time                                                 \n",
       "2017-03-17  237.75  237.97  237.07  237.08   50206841\n",
       "2017-03-20  237.03  237.36  236.32  236.74   37732815\n",
       "2017-03-21  237.47  237.61  233.58  233.78  102898817\n",
       "2017-03-22  233.77  234.61  233.05  234.27   70252351\n",
       "2017-03-23  233.99  235.34  233.60  234.01   76534784"
      ]
     },
     "execution_count": 1971,
     "metadata": {},
     "output_type": "execute_result"
    }
   ],
   "source": [
    "df_sp500.head()"
   ]
  },
  {
   "cell_type": "code",
   "execution_count": 1972,
   "metadata": {},
   "outputs": [
    {
     "data": {
      "text/html": [
       "<div>\n",
       "<style scoped>\n",
       "    .dataframe tbody tr th:only-of-type {\n",
       "        vertical-align: middle;\n",
       "    }\n",
       "\n",
       "    .dataframe tbody tr th {\n",
       "        vertical-align: top;\n",
       "    }\n",
       "\n",
       "    .dataframe thead th {\n",
       "        text-align: right;\n",
       "    }\n",
       "</style>\n",
       "<table border=\"1\" class=\"dataframe\">\n",
       "  <thead>\n",
       "    <tr style=\"text-align: right;\">\n",
       "      <th></th>\n",
       "      <th>0</th>\n",
       "    </tr>\n",
       "    <tr>\n",
       "      <th>time</th>\n",
       "      <th></th>\n",
       "    </tr>\n",
       "  </thead>\n",
       "  <tbody>\n",
       "    <tr>\n",
       "      <th>2019-12-27</th>\n",
       "      <td>9998.451581</td>\n",
       "    </tr>\n",
       "    <tr>\n",
       "      <th>2019-12-30</th>\n",
       "      <td>9943.947230</td>\n",
       "    </tr>\n",
       "    <tr>\n",
       "      <th>2019-12-31</th>\n",
       "      <td>9969.341303</td>\n",
       "    </tr>\n",
       "    <tr>\n",
       "      <th>2020-01-02</th>\n",
       "      <td>10060.078660</td>\n",
       "    </tr>\n",
       "    <tr>\n",
       "      <th>2020-01-03</th>\n",
       "      <td>9985.444861</td>\n",
       "    </tr>\n",
       "  </tbody>\n",
       "</table>\n",
       "</div>"
      ],
      "text/plain": [
       "                       0\n",
       "time                    \n",
       "2019-12-27   9998.451581\n",
       "2019-12-30   9943.947230\n",
       "2019-12-31   9969.341303\n",
       "2020-01-02  10060.078660\n",
       "2020-01-03   9985.444861"
      ]
     },
     "execution_count": 1972,
     "metadata": {},
     "output_type": "execute_result"
    }
   ],
   "source": [
    "cumulative_ret.head()"
   ]
  },
  {
   "cell_type": "code",
   "execution_count": 1973,
   "metadata": {},
   "outputs": [
    {
     "data": {
      "text/html": [
       "<div>\n",
       "<style scoped>\n",
       "    .dataframe tbody tr th:only-of-type {\n",
       "        vertical-align: middle;\n",
       "    }\n",
       "\n",
       "    .dataframe tbody tr th {\n",
       "        vertical-align: top;\n",
       "    }\n",
       "\n",
       "    .dataframe thead th {\n",
       "        text-align: right;\n",
       "    }\n",
       "</style>\n",
       "<table border=\"1\" class=\"dataframe\">\n",
       "  <thead>\n",
       "    <tr style=\"text-align: right;\">\n",
       "      <th></th>\n",
       "      <th>open</th>\n",
       "      <th>high</th>\n",
       "      <th>low</th>\n",
       "      <th>close</th>\n",
       "      <th>volume</th>\n",
       "      <th>0</th>\n",
       "    </tr>\n",
       "    <tr>\n",
       "      <th>time</th>\n",
       "      <th></th>\n",
       "      <th></th>\n",
       "      <th></th>\n",
       "      <th></th>\n",
       "      <th></th>\n",
       "      <th></th>\n",
       "    </tr>\n",
       "  </thead>\n",
       "  <tbody>\n",
       "    <tr>\n",
       "      <th>2021-03-02</th>\n",
       "      <td>389.82</td>\n",
       "      <td>390.07</td>\n",
       "      <td>386.00</td>\n",
       "      <td>386.550</td>\n",
       "      <td>70479806</td>\n",
       "      <td>12906.255277</td>\n",
       "    </tr>\n",
       "    <tr>\n",
       "      <th>2021-03-03</th>\n",
       "      <td>385.79</td>\n",
       "      <td>386.83</td>\n",
       "      <td>381.31</td>\n",
       "      <td>381.450</td>\n",
       "      <td>105013641</td>\n",
       "      <td>12735.974843</td>\n",
       "    </tr>\n",
       "    <tr>\n",
       "      <th>2021-03-04</th>\n",
       "      <td>381.22</td>\n",
       "      <td>384.00</td>\n",
       "      <td>371.88</td>\n",
       "      <td>376.730</td>\n",
       "      <td>168203161</td>\n",
       "      <td>12578.381970</td>\n",
       "    </tr>\n",
       "    <tr>\n",
       "      <th>2021-03-05</th>\n",
       "      <td>380.46</td>\n",
       "      <td>384.76</td>\n",
       "      <td>372.64</td>\n",
       "      <td>383.595</td>\n",
       "      <td>133661539</td>\n",
       "      <td>12807.592790</td>\n",
       "    </tr>\n",
       "    <tr>\n",
       "      <th>2021-03-08</th>\n",
       "      <td>384.66</td>\n",
       "      <td>387.68</td>\n",
       "      <td>381.42</td>\n",
       "      <td>381.740</td>\n",
       "      <td>107185328</td>\n",
       "      <td>12745.657456</td>\n",
       "    </tr>\n",
       "  </tbody>\n",
       "</table>\n",
       "</div>"
      ],
      "text/plain": [
       "              open    high     low    close     volume             0\n",
       "time                                                                \n",
       "2021-03-02  389.82  390.07  386.00  386.550   70479806  12906.255277\n",
       "2021-03-03  385.79  386.83  381.31  381.450  105013641  12735.974843\n",
       "2021-03-04  381.22  384.00  371.88  376.730  168203161  12578.381970\n",
       "2021-03-05  380.46  384.76  372.64  383.595  133661539  12807.592790\n",
       "2021-03-08  384.66  387.68  381.42  381.740  107185328  12745.657456"
      ]
     },
     "execution_count": 1973,
     "metadata": {},
     "output_type": "execute_result"
    }
   ],
   "source": [
    "#concat dfs\n",
    "together = pd.concat([df_sp500,cumulative_ret],axis=1)\n",
    "together.tail()"
   ]
  },
  {
   "cell_type": "code",
   "execution_count": 1974,
   "metadata": {},
   "outputs": [
    {
     "data": {
      "text/html": [
       "<div>\n",
       "<style scoped>\n",
       "    .dataframe tbody tr th:only-of-type {\n",
       "        vertical-align: middle;\n",
       "    }\n",
       "\n",
       "    .dataframe tbody tr th {\n",
       "        vertical-align: top;\n",
       "    }\n",
       "\n",
       "    .dataframe thead th {\n",
       "        text-align: right;\n",
       "    }\n",
       "</style>\n",
       "<table border=\"1\" class=\"dataframe\">\n",
       "  <thead>\n",
       "    <tr style=\"text-align: right;\">\n",
       "      <th></th>\n",
       "      <th>open</th>\n",
       "      <th>high</th>\n",
       "      <th>low</th>\n",
       "      <th>close</th>\n",
       "      <th>volume</th>\n",
       "      <th>0</th>\n",
       "    </tr>\n",
       "    <tr>\n",
       "      <th>time</th>\n",
       "      <th></th>\n",
       "      <th></th>\n",
       "      <th></th>\n",
       "      <th></th>\n",
       "      <th></th>\n",
       "      <th></th>\n",
       "    </tr>\n",
       "  </thead>\n",
       "  <tbody>\n",
       "    <tr>\n",
       "      <th>2017-03-17</th>\n",
       "      <td>237.75</td>\n",
       "      <td>237.97</td>\n",
       "      <td>237.07</td>\n",
       "      <td>237.08</td>\n",
       "      <td>50206841</td>\n",
       "      <td>NaN</td>\n",
       "    </tr>\n",
       "    <tr>\n",
       "      <th>2017-03-20</th>\n",
       "      <td>237.03</td>\n",
       "      <td>237.36</td>\n",
       "      <td>236.32</td>\n",
       "      <td>236.74</td>\n",
       "      <td>37732815</td>\n",
       "      <td>NaN</td>\n",
       "    </tr>\n",
       "    <tr>\n",
       "      <th>2017-03-21</th>\n",
       "      <td>237.47</td>\n",
       "      <td>237.61</td>\n",
       "      <td>233.58</td>\n",
       "      <td>233.78</td>\n",
       "      <td>102898817</td>\n",
       "      <td>NaN</td>\n",
       "    </tr>\n",
       "    <tr>\n",
       "      <th>2017-03-22</th>\n",
       "      <td>233.77</td>\n",
       "      <td>234.61</td>\n",
       "      <td>233.05</td>\n",
       "      <td>234.27</td>\n",
       "      <td>70252351</td>\n",
       "      <td>NaN</td>\n",
       "    </tr>\n",
       "    <tr>\n",
       "      <th>2017-03-23</th>\n",
       "      <td>233.99</td>\n",
       "      <td>235.34</td>\n",
       "      <td>233.60</td>\n",
       "      <td>234.01</td>\n",
       "      <td>76534784</td>\n",
       "      <td>NaN</td>\n",
       "    </tr>\n",
       "  </tbody>\n",
       "</table>\n",
       "</div>"
      ],
      "text/plain": [
       "              open    high     low   close     volume   0\n",
       "time                                                     \n",
       "2017-03-17  237.75  237.97  237.07  237.08   50206841 NaN\n",
       "2017-03-20  237.03  237.36  236.32  236.74   37732815 NaN\n",
       "2017-03-21  237.47  237.61  233.58  233.78  102898817 NaN\n",
       "2017-03-22  233.77  234.61  233.05  234.27   70252351 NaN\n",
       "2017-03-23  233.99  235.34  233.60  234.01   76534784 NaN"
      ]
     },
     "execution_count": 1974,
     "metadata": {},
     "output_type": "execute_result"
    }
   ],
   "source": [
    "#settings\n",
    "pd.set_option('display.max_rows', None)\n",
    "together.head()"
   ]
  },
  {
   "cell_type": "code",
   "execution_count": 1975,
   "metadata": {},
   "outputs": [],
   "source": [
    "together['market_daily_return'] = together['close'].dropna().pct_change()\n",
    "#together.head()\n",
    "#together = together[1:]\n",
    "#together = together.drop(columns)"
   ]
  },
  {
   "cell_type": "code",
   "execution_count": 1976,
   "metadata": {},
   "outputs": [
    {
     "name": "stdout",
     "output_type": "stream",
     "text": [
      "2019-12-27 00:00:00\n"
     ]
    }
   ],
   "source": [
    "print(f\"{cumulative_return_capital_nn.index[0]}\")"
   ]
  },
  {
   "cell_type": "code",
   "execution_count": 1977,
   "metadata": {},
   "outputs": [],
   "source": [
    "#together = together.loc['2020-11-16':]\n",
    "#together"
   ]
  },
  {
   "cell_type": "code",
   "execution_count": 1978,
   "metadata": {},
   "outputs": [
    {
     "data": {
      "text/html": [
       "<div>\n",
       "<style scoped>\n",
       "    .dataframe tbody tr th:only-of-type {\n",
       "        vertical-align: middle;\n",
       "    }\n",
       "\n",
       "    .dataframe tbody tr th {\n",
       "        vertical-align: top;\n",
       "    }\n",
       "\n",
       "    .dataframe thead th {\n",
       "        text-align: right;\n",
       "    }\n",
       "</style>\n",
       "<table border=\"1\" class=\"dataframe\">\n",
       "  <thead>\n",
       "    <tr style=\"text-align: right;\">\n",
       "      <th></th>\n",
       "      <th>open</th>\n",
       "      <th>high</th>\n",
       "      <th>low</th>\n",
       "      <th>close</th>\n",
       "      <th>volume</th>\n",
       "      <th>0</th>\n",
       "      <th>market_daily_return</th>\n",
       "    </tr>\n",
       "    <tr>\n",
       "      <th>time</th>\n",
       "      <th></th>\n",
       "      <th></th>\n",
       "      <th></th>\n",
       "      <th></th>\n",
       "      <th></th>\n",
       "      <th></th>\n",
       "      <th></th>\n",
       "    </tr>\n",
       "  </thead>\n",
       "  <tbody>\n",
       "    <tr>\n",
       "      <th>2019-12-27</th>\n",
       "      <td>323.74</td>\n",
       "      <td>323.80</td>\n",
       "      <td>322.28</td>\n",
       "      <td>322.86</td>\n",
       "      <td>35123062</td>\n",
       "      <td>9998.451581</td>\n",
       "      <td>-0.000155</td>\n",
       "    </tr>\n",
       "    <tr>\n",
       "      <th>2019-12-30</th>\n",
       "      <td>322.95</td>\n",
       "      <td>323.10</td>\n",
       "      <td>320.55</td>\n",
       "      <td>321.10</td>\n",
       "      <td>41848090</td>\n",
       "      <td>9943.947230</td>\n",
       "      <td>-0.005451</td>\n",
       "    </tr>\n",
       "    <tr>\n",
       "      <th>2019-12-31</th>\n",
       "      <td>320.53</td>\n",
       "      <td>322.13</td>\n",
       "      <td>320.15</td>\n",
       "      <td>321.89</td>\n",
       "      <td>38134256</td>\n",
       "      <td>9969.341303</td>\n",
       "      <td>0.002460</td>\n",
       "    </tr>\n",
       "    <tr>\n",
       "      <th>2020-01-02</th>\n",
       "      <td>323.54</td>\n",
       "      <td>324.85</td>\n",
       "      <td>322.53</td>\n",
       "      <td>324.84</td>\n",
       "      <td>48217559</td>\n",
       "      <td>10060.078660</td>\n",
       "      <td>0.009165</td>\n",
       "    </tr>\n",
       "    <tr>\n",
       "      <th>2020-01-03</th>\n",
       "      <td>321.16</td>\n",
       "      <td>323.64</td>\n",
       "      <td>321.10</td>\n",
       "      <td>322.44</td>\n",
       "      <td>58408809</td>\n",
       "      <td>9985.444861</td>\n",
       "      <td>-0.007388</td>\n",
       "    </tr>\n",
       "  </tbody>\n",
       "</table>\n",
       "</div>"
      ],
      "text/plain": [
       "              open    high     low   close    volume             0  \\\n",
       "time                                                                 \n",
       "2019-12-27  323.74  323.80  322.28  322.86  35123062   9998.451581   \n",
       "2019-12-30  322.95  323.10  320.55  321.10  41848090   9943.947230   \n",
       "2019-12-31  320.53  322.13  320.15  321.89  38134256   9969.341303   \n",
       "2020-01-02  323.54  324.85  322.53  324.84  48217559  10060.078660   \n",
       "2020-01-03  321.16  323.64  321.10  322.44  58408809   9985.444861   \n",
       "\n",
       "            market_daily_return  \n",
       "time                             \n",
       "2019-12-27            -0.000155  \n",
       "2019-12-30            -0.005451  \n",
       "2019-12-31             0.002460  \n",
       "2020-01-02             0.009165  \n",
       "2020-01-03            -0.007388  "
      ]
     },
     "execution_count": 1978,
     "metadata": {},
     "output_type": "execute_result"
    }
   ],
   "source": [
    "#together = together.loc['2020-11-16':]\n",
    "\n",
    "together = together.loc[cumulative_return_capital_nn.index[0]:]\n",
    "together.dropna(inplace=True)\n",
    "together.head()"
   ]
  },
  {
   "cell_type": "code",
   "execution_count": 1979,
   "metadata": {},
   "outputs": [
    {
     "data": {
      "text/html": [
       "<div>\n",
       "<style scoped>\n",
       "    .dataframe tbody tr th:only-of-type {\n",
       "        vertical-align: middle;\n",
       "    }\n",
       "\n",
       "    .dataframe tbody tr th {\n",
       "        vertical-align: top;\n",
       "    }\n",
       "\n",
       "    .dataframe thead th {\n",
       "        text-align: right;\n",
       "    }\n",
       "</style>\n",
       "<table border=\"1\" class=\"dataframe\">\n",
       "  <thead>\n",
       "    <tr style=\"text-align: right;\">\n",
       "      <th></th>\n",
       "      <th>open</th>\n",
       "      <th>high</th>\n",
       "      <th>low</th>\n",
       "      <th>close</th>\n",
       "      <th>volume</th>\n",
       "      <th>Algo</th>\n",
       "      <th>market_daily_return</th>\n",
       "      <th>SP500</th>\n",
       "    </tr>\n",
       "    <tr>\n",
       "      <th>time</th>\n",
       "      <th></th>\n",
       "      <th></th>\n",
       "      <th></th>\n",
       "      <th></th>\n",
       "      <th></th>\n",
       "      <th></th>\n",
       "      <th></th>\n",
       "      <th></th>\n",
       "    </tr>\n",
       "  </thead>\n",
       "  <tbody>\n",
       "    <tr>\n",
       "      <th>2019-12-27</th>\n",
       "      <td>323.74</td>\n",
       "      <td>323.80</td>\n",
       "      <td>322.28</td>\n",
       "      <td>322.86</td>\n",
       "      <td>35123062</td>\n",
       "      <td>9998.451581</td>\n",
       "      <td>-0.000155</td>\n",
       "      <td>9998.451581</td>\n",
       "    </tr>\n",
       "    <tr>\n",
       "      <th>2019-12-30</th>\n",
       "      <td>322.95</td>\n",
       "      <td>323.10</td>\n",
       "      <td>320.55</td>\n",
       "      <td>321.10</td>\n",
       "      <td>41848090</td>\n",
       "      <td>9943.947230</td>\n",
       "      <td>-0.005451</td>\n",
       "      <td>9943.947230</td>\n",
       "    </tr>\n",
       "    <tr>\n",
       "      <th>2019-12-31</th>\n",
       "      <td>320.53</td>\n",
       "      <td>322.13</td>\n",
       "      <td>320.15</td>\n",
       "      <td>321.89</td>\n",
       "      <td>38134256</td>\n",
       "      <td>9969.341303</td>\n",
       "      <td>0.002460</td>\n",
       "      <td>9968.412251</td>\n",
       "    </tr>\n",
       "    <tr>\n",
       "      <th>2020-01-02</th>\n",
       "      <td>323.54</td>\n",
       "      <td>324.85</td>\n",
       "      <td>322.53</td>\n",
       "      <td>324.84</td>\n",
       "      <td>48217559</td>\n",
       "      <td>10060.078660</td>\n",
       "      <td>0.009165</td>\n",
       "      <td>10059.768976</td>\n",
       "    </tr>\n",
       "    <tr>\n",
       "      <th>2020-01-03</th>\n",
       "      <td>321.16</td>\n",
       "      <td>323.64</td>\n",
       "      <td>321.10</td>\n",
       "      <td>322.44</td>\n",
       "      <td>58408809</td>\n",
       "      <td>9985.444861</td>\n",
       "      <td>-0.007388</td>\n",
       "      <td>9985.444861</td>\n",
       "    </tr>\n",
       "  </tbody>\n",
       "</table>\n",
       "</div>"
      ],
      "text/plain": [
       "              open    high     low   close    volume          Algo  \\\n",
       "time                                                                 \n",
       "2019-12-27  323.74  323.80  322.28  322.86  35123062   9998.451581   \n",
       "2019-12-30  322.95  323.10  320.55  321.10  41848090   9943.947230   \n",
       "2019-12-31  320.53  322.13  320.15  321.89  38134256   9969.341303   \n",
       "2020-01-02  323.54  324.85  322.53  324.84  48217559  10060.078660   \n",
       "2020-01-03  321.16  323.64  321.10  322.44  58408809   9985.444861   \n",
       "\n",
       "            market_daily_return         SP500  \n",
       "time                                           \n",
       "2019-12-27            -0.000155   9998.451581  \n",
       "2019-12-30            -0.005451   9943.947230  \n",
       "2019-12-31             0.002460   9968.412251  \n",
       "2020-01-02             0.009165  10059.768976  \n",
       "2020-01-03            -0.007388   9985.444861  "
      ]
     },
     "execution_count": 1979,
     "metadata": {},
     "output_type": "execute_result"
    }
   ],
   "source": [
    "together['SP500'] = (1 + together['market_daily_return']).cumprod() * 10000\n",
    "together = together.rename(columns = {0:\"Algo\"})\n",
    "together.head()"
   ]
  },
  {
   "cell_type": "code",
   "execution_count": 1980,
   "metadata": {},
   "outputs": [],
   "source": [
    "#results_nn.loc['2020-10-01':'2020-11-01']"
   ]
  },
  {
   "cell_type": "code",
   "execution_count": 1981,
   "metadata": {},
   "outputs": [
    {
     "data": {
      "text/plain": [
       "<AxesSubplot:xlabel='time'>"
      ]
     },
     "execution_count": 1981,
     "metadata": {},
     "output_type": "execute_result"
    },
    {
     "data": {
      "image/png": "[encoded data removed]",
      "text/plain": [
       "<Figure size 1440x864 with 1 Axes>"
      ]
     },
     "metadata": {
      "needs_background": "light"
     },
     "output_type": "display_data"
    }
   ],
   "source": [
    "together[[\"SP500\",\"Algo\"]].plot(figsize=(20,12))"
   ]
  },
  {
   "cell_type": "code",
   "execution_count": null,
   "metadata": {},
   "outputs": [],
   "source": []
  }
 ],
 "metadata": {
  "kernelspec": {
   "display_name": "Python 3",
   "language": "python",
   "name": "python3"
  },
  "language_info": {
   "codemirror_mode": {
    "name": "ipython",
    "version": 3
   },
   "file_extension": ".py",
   "mimetype": "text/x-python",
   "name": "python",
   "nbconvert_exporter": "python",
   "pygments_lexer": "ipython3",
   "version": "3.7.9"
  }
 },
 "nbformat": 4,
 "nbformat_minor": 4
}
